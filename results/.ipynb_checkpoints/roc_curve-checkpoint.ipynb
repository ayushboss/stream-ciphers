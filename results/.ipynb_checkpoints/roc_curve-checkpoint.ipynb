{
 "cells": [
  {
   "cell_type": "code",
   "execution_count": 1,
   "metadata": {},
   "outputs": [],
   "source": [
    "import pandas as pd\n",
    "import numpy as np\n",
    "import sklearn.metrics as metrics\n",
    "import matplotlib.pyplot as plt"
   ]
  },
  {
   "cell_type": "code",
   "execution_count": 2,
   "metadata": {},
   "outputs": [],
   "source": [
    "prng = 'MT'"
   ]
  },
  {
   "cell_type": "code",
   "execution_count": 3,
   "metadata": {},
   "outputs": [],
   "source": [
    "data = pd.read_csv(f'pvalues/{prng}_pvals.csv')"
   ]
  },
  {
   "cell_type": "code",
   "execution_count": 18,
   "metadata": {},
   "outputs": [
    {
     "data": {
      "text/html": [
       "<div>\n",
       "<style scoped>\n",
       "    .dataframe tbody tr th:only-of-type {\n",
       "        vertical-align: middle;\n",
       "    }\n",
       "\n",
       "    .dataframe tbody tr th {\n",
       "        vertical-align: top;\n",
       "    }\n",
       "\n",
       "    .dataframe thead th {\n",
       "        text-align: right;\n",
       "    }\n",
       "</style>\n",
       "<table border=\"1\" class=\"dataframe\">\n",
       "  <thead>\n",
       "    <tr style=\"text-align: right;\">\n",
       "      <th></th>\n",
       "      <th>Unnamed: 0</th>\n",
       "      <th>Monobit</th>\n",
       "      <th>Frequency Within Blocks</th>\n",
       "      <th>Runs</th>\n",
       "      <th>Longest Run in Ones</th>\n",
       "      <th>Binary Matrix Rank</th>\n",
       "      <th>DFT</th>\n",
       "      <th>Nonoverlapping Template</th>\n",
       "      <th>Overlapping Template</th>\n",
       "      <th>Maurer's Universal</th>\n",
       "      <th>Linear Complexity</th>\n",
       "    </tr>\n",
       "  </thead>\n",
       "  <tbody>\n",
       "    <tr>\n",
       "      <th>0</th>\n",
       "      <td>0</td>\n",
       "      <td>0.353439</td>\n",
       "      <td>0.120506</td>\n",
       "      <td>0.141568</td>\n",
       "      <td>0.654713</td>\n",
       "      <td>0.119437</td>\n",
       "      <td>0.245914</td>\n",
       "      <td>1.000000</td>\n",
       "      <td>0.038044</td>\n",
       "      <td>0.999350</td>\n",
       "      <td>0.123336</td>\n",
       "    </tr>\n",
       "    <tr>\n",
       "      <th>1</th>\n",
       "      <td>1</td>\n",
       "      <td>0.696893</td>\n",
       "      <td>0.011653</td>\n",
       "      <td>0.742072</td>\n",
       "      <td>0.967613</td>\n",
       "      <td>0.367268</td>\n",
       "      <td>0.318308</td>\n",
       "      <td>1.000001</td>\n",
       "      <td>0.683236</td>\n",
       "      <td>0.998650</td>\n",
       "      <td>0.796993</td>\n",
       "    </tr>\n",
       "    <tr>\n",
       "      <th>2</th>\n",
       "      <td>2</td>\n",
       "      <td>0.208644</td>\n",
       "      <td>0.791149</td>\n",
       "      <td>0.172324</td>\n",
       "      <td>0.738893</td>\n",
       "      <td>0.164249</td>\n",
       "      <td>1.093378</td>\n",
       "      <td>1.000001</td>\n",
       "      <td>0.280502</td>\n",
       "      <td>0.999365</td>\n",
       "      <td>0.971846</td>\n",
       "    </tr>\n",
       "    <tr>\n",
       "      <th>3</th>\n",
       "      <td>3</td>\n",
       "      <td>0.524745</td>\n",
       "      <td>0.131899</td>\n",
       "      <td>0.917092</td>\n",
       "      <td>0.187030</td>\n",
       "      <td>0.619952</td>\n",
       "      <td>2.179289</td>\n",
       "      <td>1.000001</td>\n",
       "      <td>0.550278</td>\n",
       "      <td>0.999206</td>\n",
       "      <td>0.798541</td>\n",
       "    </tr>\n",
       "    <tr>\n",
       "      <th>4</th>\n",
       "      <td>4</td>\n",
       "      <td>0.173251</td>\n",
       "      <td>0.388665</td>\n",
       "      <td>0.270341</td>\n",
       "      <td>0.248759</td>\n",
       "      <td>0.713234</td>\n",
       "      <td>0.245914</td>\n",
       "      <td>0.999880</td>\n",
       "      <td>0.119113</td>\n",
       "      <td>0.998926</td>\n",
       "      <td>0.262796</td>\n",
       "    </tr>\n",
       "  </tbody>\n",
       "</table>\n",
       "</div>"
      ],
      "text/plain": [
       "   Unnamed: 0   Monobit  Frequency Within Blocks      Runs  \\\n",
       "0           0  0.353439                 0.120506  0.141568   \n",
       "1           1  0.696893                 0.011653  0.742072   \n",
       "2           2  0.208644                 0.791149  0.172324   \n",
       "3           3  0.524745                 0.131899  0.917092   \n",
       "4           4  0.173251                 0.388665  0.270341   \n",
       "\n",
       "   Longest Run in Ones  Binary Matrix Rank       DFT  Nonoverlapping Template  \\\n",
       "0             0.654713            0.119437  0.245914                 1.000000   \n",
       "1             0.967613            0.367268  0.318308                 1.000001   \n",
       "2             0.738893            0.164249  1.093378                 1.000001   \n",
       "3             0.187030            0.619952  2.179289                 1.000001   \n",
       "4             0.248759            0.713234  0.245914                 0.999880   \n",
       "\n",
       "   Overlapping Template  Maurer's Universal  Linear Complexity  \n",
       "0              0.038044            0.999350           0.123336  \n",
       "1              0.683236            0.998650           0.796993  \n",
       "2              0.280502            0.999365           0.971846  \n",
       "3              0.550278            0.999206           0.798541  \n",
       "4              0.119113            0.998926           0.262796  "
      ]
     },
     "execution_count": 18,
     "metadata": {},
     "output_type": "execute_result"
    }
   ],
   "source": [
    "data.head()"
   ]
  },
  {
   "cell_type": "code",
   "execution_count": 26,
   "metadata": {},
   "outputs": [],
   "source": [
    "test = data['Runs']"
   ]
  },
  {
   "cell_type": "code",
   "execution_count": 3,
   "metadata": {},
   "outputs": [],
   "source": [
    "def roc_curve(X):\n",
    "    cnts = [0]\n",
    "    X_s = sorted(X,reverse=True)\n",
    "    cntr = 0\n",
    "    \n",
    "    rate = 99/100\n",
    "    curr = 0\n",
    "    \n",
    "    while X_s[cntr] > rate:        \n",
    "        cntr += 1\n",
    "        if cntr == len(X_s):\n",
    "            break\n",
    "        curr += 1\n",
    "        \n",
    "        while X_s[cntr] <= rate:\n",
    "            cnts.append(cntr)\n",
    "            rate -= 1/100\n",
    "            \n",
    "    cnts.append(len(X_s))\n",
    "            \n",
    "    while len(cnts) < 101:\n",
    "        cnts.append(cnts[-1])\n",
    "        \n",
    "    return [i/100 for i in range(100,-1,-1)], [i/cnts[-1] for i in cnts]"
   ]
  },
  {
   "cell_type": "code",
   "execution_count": 57,
   "metadata": {},
   "outputs": [],
   "source": [
    "rates, cnts = roc_curve(test)"
   ]
  },
  {
   "cell_type": "code",
   "execution_count": 59,
   "metadata": {},
   "outputs": [
    {
     "data": {
      "text/plain": [
       "[<matplotlib.lines.Line2D at 0x7fdea6432b20>]"
      ]
     },
     "execution_count": 59,
     "metadata": {},
     "output_type": "execute_result"
    },
    {
     "data": {
      "image/png": "[encoded data removed]",
      "text/plain": [
       "<Figure size 432x288 with 1 Axes>"
      ]
     },
     "metadata": {
      "needs_background": "light"
     },
     "output_type": "display_data"
    }
   ],
   "source": [
    "plt.plot(rates,cnts)"
   ]
  },
  {
   "cell_type": "code",
   "execution_count": 60,
   "metadata": {},
   "outputs": [
    {
     "data": {
      "text/plain": [
       "(array([156., 122., 118., 100.,  83.,  94.,  80.,  85.,  81.,  81.]),\n",
       " array([1.71564581e-04, 9.98469934e-02, 1.99522422e-01, 2.99197851e-01,\n",
       "        3.98873280e-01, 4.98548709e-01, 5.98224137e-01, 6.97899566e-01,\n",
       "        7.97574995e-01, 8.97250424e-01, 9.96925853e-01]),\n",
       " <a list of 10 Patch objects>)"
      ]
     },
     "execution_count": 60,
     "metadata": {},
     "output_type": "execute_result"
    },
    {
     "data": {
      "image/png": "[encoded data removed]",
      "text/plain": [
       "<Figure size 432x288 with 1 Axes>"
      ]
     },
     "metadata": {
      "needs_background": "light"
     },
     "output_type": "display_data"
    }
   ],
   "source": [
    "plt.hist(test)"
   ]
  },
  {
   "cell_type": "code",
   "execution_count": null,
   "metadata": {},
   "outputs": [],
   "source": []
  },
  {
   "cell_type": "code",
   "execution_count": null,
   "metadata": {},
   "outputs": [],
   "source": []
  },
  {
   "cell_type": "code",
   "execution_count": 4,
   "metadata": {},
   "outputs": [],
   "source": [
    "### multiple prngs comparison"
   ]
  },
  {
   "cell_type": "code",
   "execution_count": 15,
   "metadata": {},
   "outputs": [
    {
     "name": "stdout",
     "output_type": "stream",
     "text": [
      "MT: [0.991, 0.952, 0.897, 0.789, 0.704, 0.607, 0.51], 0.503\n",
      "PCG64: [0.989, 0.957, 0.912, 0.805, 0.712, 0.634, 0.528], 0.515\n",
      "philox: [0.992, 0.939, 0.883, 0.778, 0.674, 0.584, 0.508], 0.496\n",
      "threefry: [0.994, 0.959, 0.91, 0.804, 0.701, 0.597, 0.499], 0.500\n",
      "xoroshiro: [0.993, 0.953, 0.898, 0.799, 0.707, 0.61, 0.511], 0.507\n"
     ]
    },
    {
     "data": {
      "image/png": "[encoded data removed]",
      "text/plain": [
       "<Figure size 432x288 with 1 Axes>"
      ]
     },
     "metadata": {
      "needs_background": "light"
     },
     "output_type": "display_data"
    }
   ],
   "source": [
    "prngs = ['MT','PCG64','philox','threefry','xoroshiro']\n",
    "dec_rules = [0.01,0.05,0.1,0.2,0.3,0.4,0.5]\n",
    "\n",
    "cnts_lists = []\n",
    "\n",
    "for prng in prngs:\n",
    "    data = pd.read_csv(f'pvalues/{prng}_pvals.csv')\n",
    "    \n",
    "    # edit this to edit the test\n",
    "    test = data['Linear Complexity']\n",
    "    \n",
    "    rates, cnts = roc_curve(test)\n",
    "    cnts_lists.append(cnts)\n",
    "\n",
    "# decision rules\n",
    "for i in range(len(cnts_lists)):\n",
    "    outc = []\n",
    "    \n",
    "    for j in dec_rules:\n",
    "        k = 0\n",
    "        while rates[k] != j:\n",
    "            k += 1\n",
    "        \n",
    "        outc.append(cnts_lists[i][k])\n",
    "        \n",
    "    print(f'{prngs[i]}: {outc}, {metrics.auc(rates,cnts_lists[i]):.3f}')\n",
    "    \n",
    "# roc curves\n",
    "plt.figure()\n",
    "for i in range(len(prngs)):\n",
    "    plt.plot(rates,cnts_lists[i],label=prngs[i])\n",
    "plt.legend()\n",
    "plt.xlabel('Decision Rule')\n",
    "plt.ylabel('Proportion Not Deemed Non-random')\n",
    "plt.show()"
   ]
  },
  {
   "cell_type": "code",
   "execution_count": null,
   "metadata": {},
   "outputs": [],
   "source": []
  },
  {
   "cell_type": "code",
   "execution_count": null,
   "metadata": {},
   "outputs": [],
   "source": []
  },
  {
   "cell_type": "code",
   "execution_count": null,
   "metadata": {},
   "outputs": [],
   "source": []
  },
  {
   "cell_type": "markdown",
   "metadata": {},
   "source": [
    "## Sample ROC curves"
   ]
  },
  {
   "cell_type": "code",
   "execution_count": 35,
   "metadata": {},
   "outputs": [
    {
     "data": {
      "text/plain": [
       "Text(0, 0.5, 'False Positive Rate')"
      ]
     },
     "execution_count": 35,
     "metadata": {},
     "output_type": "execute_result"
    },
    {
     "data": {
      "image/png": "[encoded data removed]",
      "text/plain": [
       "<Figure size 432x288 with 1 Axes>"
      ]
     },
     "metadata": {
      "needs_background": "light"
     },
     "output_type": "display_data"
    }
   ],
   "source": [
    "plt.plot([i/100 for i in range(101)],[2*(1/(1 + np.exp(-x/100))-0.5) for x in range(0,1001,10)])\n",
    "plt.xlabel('True Positive Rate')\n",
    "plt.ylabel('False Positive Rate')"
   ]
  },
  {
   "cell_type": "code",
   "execution_count": 46,
   "metadata": {},
   "outputs": [
    {
     "data": {
      "text/plain": [
       "0.8613379810920179"
      ]
     },
     "execution_count": 46,
     "metadata": {},
     "output_type": "execute_result"
    }
   ],
   "source": [
    "metrics.auc([i/100 for i in range(101)],[2*(1/(1 + np.exp(-x/100))-0.5) for x in range(0,1001,10)])"
   ]
  },
  {
   "cell_type": "code",
   "execution_count": null,
   "metadata": {},
   "outputs": [],
   "source": []
  },
  {
   "cell_type": "code",
   "execution_count": 47,
   "metadata": {},
   "outputs": [
    {
     "data": {
      "text/plain": [
       "Text(0, 0.5, 'False Positive Rate')"
      ]
     },
     "execution_count": 47,
     "metadata": {},
     "output_type": "execute_result"
    },
    {
     "data": {
      "image/png": "[encoded data removed]",
      "text/plain": [
       "<Figure size 432x288 with 1 Axes>"
      ]
     },
     "metadata": {
      "needs_background": "light"
     },
     "output_type": "display_data"
    }
   ],
   "source": [
    "plt.plot([i/100 for i in range(101)],[np.exp(x/100-10) for x in range(0,1001,10)])\n",
    "plt.xlabel('True Positive Rate')\n",
    "plt.ylabel('False Positive Rate')"
   ]
  },
  {
   "cell_type": "code",
   "execution_count": 48,
   "metadata": {},
   "outputs": [
    {
     "data": {
      "text/plain": [
       "0.10007877567207718"
      ]
     },
     "execution_count": 48,
     "metadata": {},
     "output_type": "execute_result"
    }
   ],
   "source": [
    "metrics.auc([i/100 for i in range(101)],[np.exp(x/100-10) for x in range(0,1001,10)])"
   ]
  },
  {
   "cell_type": "code",
   "execution_count": null,
   "metadata": {},
   "outputs": [],
   "source": []
  }
 ],
 "metadata": {
  "kernelspec": {
   "display_name": "Python 3",
   "language": "python",
   "name": "python3"
  },
  "language_info": {
   "codemirror_mode": {
    "name": "ipython",
    "version": 3
   },
   "file_extension": ".py",
   "mimetype": "text/x-python",
   "name": "python",
   "nbconvert_exporter": "python",
   "pygments_lexer": "ipython3",
   "version": "3.8.3"
  }
 },
 "nbformat": 4,
 "nbformat_minor": 4
}
